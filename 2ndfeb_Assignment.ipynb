{
 "cells": [
  {
   "cell_type": "markdown",
   "id": "43e1d93e-5682-482f-b5fa-18f2fdc08d32",
   "metadata": {},
   "source": [
    "Q1. What are the characteristics of the tuples? Is tuple immutable?\n"
   ]
  },
  {
   "cell_type": "markdown",
   "id": "43008695-c99c-41e9-84dd-990d47f28e71",
   "metadata": {},
   "source": [
    "A tuple is an ordered, immutable sequence of elements in Python. Here are some key characteristics of tuples:\n",
    "\n",
    "Ordered: Tuples maintain the order of the elements they contain, so the first element in a tuple will always be at index 0, the second element at index 1, and so on.\n",
    "\n",
    "Immutable: Tuples are immutable, which means that once a tuple is created, its contents cannot be changed. You cannot add or remove elements from a tuple, nor can you modify the elements themselves."
   ]
  },
  {
   "cell_type": "markdown",
   "id": "28dae6fb-3699-4372-b5e7-703ab9c46119",
   "metadata": {},
   "source": [
    "Q2. What are the two tuple methods in python? Give an example of each method. Give a reason why\n",
    "tuples have only two in-built methods as compared to Lists."
   ]
  },
  {
   "cell_type": "markdown",
   "id": "5714b043-79cc-4fcb-ad85-ad586ae2b032",
   "metadata": {},
   "source": [
    "The two in-built methods available for tuples in Python are:\n",
    "\n",
    "count() & index() \n",
    "\n",
    "count() - This method returns the number of times a specified element appears in a tuple.\n",
    "index() - This method returns the index of the first occurrence of a specified element in a tuple."
   ]
  },
  {
   "cell_type": "code",
   "execution_count": 5,
   "id": "f115b7ee-c857-4634-ad71-15270b76daea",
   "metadata": {},
   "outputs": [
    {
     "name": "stdout",
     "output_type": "stream",
     "text": [
      "3\n"
     ]
    }
   ],
   "source": [
    "#Exaample Count()\n",
    "\n",
    "Tuple = (1, 2, 3, 2, 4, 5, 2)\n",
    "count_of_twos = Tuple.count(2)\n",
    "print(count_of_twos) # Output: 3\n"
   ]
  },
  {
   "cell_type": "code",
   "execution_count": 7,
   "id": "59c0fe36-a359-45df-811c-a1969b610458",
   "metadata": {},
   "outputs": [
    {
     "name": "stdout",
     "output_type": "stream",
     "text": [
      "2\n"
     ]
    }
   ],
   "source": [
    "t = (1, 2, 3, 2, 4, 5, 2)\n",
    "index_of_three = t.index(3)\n",
    "print(index_of_three) # Output: 2\n"
   ]
  },
  {
   "cell_type": "markdown",
   "id": "79e67a69-780a-4cb6-b1dd-75df81862e17",
   "metadata": {},
   "source": [
    "Tuples have only two in-built methods (compared to lists which have many more) because tuples are immutable. Once a tuple is created, its contents cannot be changed. As a result, there is no need for methods like append() or insert() which are used to modify lists. The count() and index() methods are useful in situations where you need to search for an element within the tuple, but there is no need for more complex methods. This simplicity also makes tuples more memory-efficient than lists, as they require less space to store their contents."
   ]
  },
  {
   "cell_type": "markdown",
   "id": "33c02197-f84e-420c-9313-54c1716296fd",
   "metadata": {},
   "source": [
    "### Q3.  Which collection datatypes in python do not allow duplicate items? Write a code using a set to remove\n",
    "#duplicates from the given list.\n",
    "\n",
    "\n",
    "List = [1, 1, 1, 2, 1, 3, 1, 4, 2, 1, 2, 2, 2, 3, 2, 4, 3, 1, 3, 2, 3, 3, 3, 4, 4, 1, 4, 2, 4, 3, 4, 4]"
   ]
  },
  {
   "cell_type": "code",
   "execution_count": 48,
   "id": "8561e98c-5da5-43b0-9375-72337be0af52",
   "metadata": {},
   "outputs": [],
   "source": [
    "List = [1, 1, 1, 2, 1, 3, 1, 4, 2, 1, 2, 2, 2, 3, 2, 4, 3, 1, 3, 2, 3, 3, 3, 4, 4, 1, 4, 2, 4, 3, 4, 4]"
   ]
  },
  {
   "cell_type": "code",
   "execution_count": 38,
   "id": "ea3b10c4-a474-4894-a769-112785023036",
   "metadata": {},
   "outputs": [
    {
     "name": "stdout",
     "output_type": "stream",
     "text": [
      "[1, 2, 3, 4]\n"
     ]
    }
   ],
   "source": [
    "print(list(set(List)))"
   ]
  },
  {
   "cell_type": "code",
   "execution_count": 33,
   "id": "6ee124b9-69b4-4b46-b81d-4af59685ddd4",
   "metadata": {},
   "outputs": [
    {
     "name": "stdout",
     "output_type": "stream",
     "text": [
      "{1, 2, 3, 4}\n"
     ]
    }
   ],
   "source": [
    "#set in python  doesn't allow any duplicates, here is the example\n",
    "\n",
    "\n",
    "\n",
    "set(List)\n",
    "print(set(List))"
   ]
  },
  {
   "cell_type": "code",
   "execution_count": 22,
   "id": "8425ac2f-eb02-48b0-b6eb-a6c530b00c73",
   "metadata": {},
   "outputs": [
    {
     "data": {
      "text/plain": [
       "{1, 2, 3, 4}"
      ]
     },
     "execution_count": 22,
     "metadata": {},
     "output_type": "execute_result"
    }
   ],
   "source": [
    "unique_set = set(List)\n",
    "unique_set"
   ]
  },
  {
   "cell_type": "code",
   "execution_count": 35,
   "id": "2a14fd2a-c8f2-4393-a43d-505aa9df1a45",
   "metadata": {},
   "outputs": [
    {
     "data": {
      "text/plain": [
       "[1, 2, 3, 4]"
      ]
     },
     "execution_count": 35,
     "metadata": {},
     "output_type": "execute_result"
    }
   ],
   "source": [
    "# Now Converting a unique_set into a list\n",
    "\n",
    "list(unique_set)"
   ]
  },
  {
   "cell_type": "code",
   "execution_count": 39,
   "id": "fde2fdb4-c449-4b79-a7f0-0beef065a3d3",
   "metadata": {},
   "outputs": [
    {
     "name": "stdout",
     "output_type": "stream",
     "text": [
      "[1, 2, 3, 4]\n"
     ]
    }
   ],
   "source": [
    "# Or we can do this directly by using Typecasting..\n",
    "\n",
    "\n",
    "print(list(set(List)))"
   ]
  },
  {
   "cell_type": "markdown",
   "id": "5845134f-910e-40c8-a107-c0f081b59f36",
   "metadata": {},
   "source": [
    "### Q4. Explain the difference between the union() and update() methods for a set. Give an example of\n",
    "each method."
   ]
  },
  {
   "cell_type": "markdown",
   "id": "223c3e53-0371-408f-b69b-7d1d5c64d220",
   "metadata": {},
   "source": [
    "the main difference between union() and update() is that union() returns a new set, while update() modifies the original set. Additionally, union() can take any number of sets as arguments and is used to create a new set from the unique elements of all the sets, while update() can take any iterable as an argument and is used to add the elements of another set to the original set.\n",
    "\n",
    "\n",
    "\n"
   ]
  },
  {
   "cell_type": "markdown",
   "id": "9923b62e-3a28-45d1-b23b-c5075ea9292c",
   "metadata": {},
   "source": [
    "Example for bot the union() and update()\n",
    "\n"
   ]
  },
  {
   "cell_type": "code",
   "execution_count": 41,
   "id": "2cc97204-f78d-467d-bb75-b3c6e6c136cd",
   "metadata": {},
   "outputs": [
    {
     "name": "stdout",
     "output_type": "stream",
     "text": [
      "{1, 2, 3, 4, 5}\n"
     ]
    }
   ],
   "source": [
    "set1 = {1, 2, 3}\n",
    "set2 = {3, 4, 5}\n",
    "set3 = set1.union(set2)\n",
    "print(set3) \n"
   ]
  },
  {
   "cell_type": "code",
   "execution_count": 43,
   "id": "814a180c-44a9-4ee3-8ae8-247f4aba5153",
   "metadata": {},
   "outputs": [
    {
     "name": "stdout",
     "output_type": "stream",
     "text": [
      "{1, 2, 3, 4, 5}\n"
     ]
    }
   ],
   "source": [
    "set1 = {1, 2, 3}\n",
    "set2 = {3, 4, 5}\n",
    "set1.update(set2)\n",
    "print(set1) # Output: {1, 2, 3, 4, 5}\n"
   ]
  },
  {
   "cell_type": "markdown",
   "id": "5f207d26-5184-4a9c-aaca-7f1bcde16a2e",
   "metadata": {},
   "source": [
    "### Q5. What is a dictionary? Give an example. Also, state whether a dictionary is ordered or unordered.\n"
   ]
  },
  {
   "cell_type": "markdown",
   "id": "b8d633c7-353d-45fb-8f21-9786a976071c",
   "metadata": {},
   "source": [
    "In Python, a dictionary is a collection of key-value pairs that is unordered, changeable, and does not allow duplicates. Each key in a dictionary maps to a specific value. Dictionaries are also known as associative arrays, maps or hash tables in other programming languages.\n",
    "\n",
    "Here's an example of a dictionary in Python:\n",
    "\n",
    "python\n"
   ]
  },
  {
   "cell_type": "code",
   "execution_count": 50,
   "id": "d661ec07-b075-4ef5-8505-addefaabf255",
   "metadata": {},
   "outputs": [
    {
     "name": "stdout",
     "output_type": "stream",
     "text": [
      "{'Alice': 20, 'Bob': 22, 'Charlie': 21, 'David': 23}\n"
     ]
    }
   ],
   "source": [
    "# Create a dictionary of student names and their ages\n",
    "students = {'Alice': 20, 'Bob': 22, 'Charlie': 21, 'David': 23}\n",
    "\n",
    "# Print the dictionary\n",
    "print(students)\n"
   ]
  },
  {
   "cell_type": "markdown",
   "id": "1760934e-7cd4-43e8-9bf2-c90d56a7ed16",
   "metadata": {},
   "source": [
    "### Q6. Can we create a nested dictionary? If so, please give an example by creating a simple one-level\n",
    "nested dictionary."
   ]
  },
  {
   "cell_type": "markdown",
   "id": "87df20e3-6cab-4b61-8bc4-4566220306d9",
   "metadata": {},
   "source": [
    "Yes, it is possible to create a nested dictionary in Python. A nested dictionary is a dictionary that contains another dictionary as its value. Here's an example of a simple one-level nested dictionary:"
   ]
  },
  {
   "cell_type": "code",
   "execution_count": 55,
   "id": "e96e9f21-f01c-4b96-876e-2a854f957a76",
   "metadata": {},
   "outputs": [
    {
     "name": "stdout",
     "output_type": "stream",
     "text": [
      "Anytown\n",
      "123 Main St\n",
      "CA\n",
      "12345\n"
     ]
    }
   ],
   "source": [
    "# Define a dictionary that contains two keys\n",
    "person = {\n",
    "  \"name\": \"John\",\n",
    "  \"age\": 32,\n",
    "  \"address\": {\n",
    "    \"street\": \"123 Main St\",\n",
    "    \"city\": \"Anytown\",\n",
    "    \"state\": \"CA\",\n",
    "    \"zip\": \"12345\"\n",
    "  }\n",
    "}\n",
    "\n",
    "# Access values in the nested dictionary\n",
    "print(person[\"address\"][\"city\"]) \n",
    "print(person[\"address\"][\"street\"]) \n",
    "print(person[\"address\"][\"state\"]) \n",
    "print(person[\"address\"][\"zip\"]) "
   ]
  },
  {
   "cell_type": "markdown",
   "id": "0c19c8e6-d774-4e5a-a69d-dc58fa34c838",
   "metadata": {},
   "source": [
    "### Q7. Using setdefault() method, create key named topics in the given dictionary and also add the value of\n",
    "the key as this list ['Python', 'Machine Learning’, 'Deep Learning']\n",
    "\n",
    "\n",
    "dict1 = {'language' : 'Python', 'course': 'Data Science Masters'}"
   ]
  },
  {
   "cell_type": "markdown",
   "id": "ad7c68d9-65ab-4446-bcfc-8c418f393aa1",
   "metadata": {},
   "source": [
    "Here's an example code that uses the setdefault() method to create a new key called \"topics\" in the given dictionary and assigns it the value of the list ['Python', 'Machine Learning', 'Deep Learning']:"
   ]
  },
  {
   "cell_type": "code",
   "execution_count": 58,
   "id": "e36391c3-30a5-48af-9de9-cf3231f2da32",
   "metadata": {},
   "outputs": [
    {
     "name": "stdout",
     "output_type": "stream",
     "text": [
      "{'language': 'Python', 'course': 'Data Science Masters', 'topics': ['Python', 'Machine Learning', 'Deep Learning']}\n"
     ]
    }
   ],
   "source": [
    "dict1 = {'language': 'Python', 'course': 'Data Science Masters'}\n",
    "\n",
    "# Use setdefault() to add the 'topics' key and its value to the dictionary\n",
    "dict1.setdefault('topics', ['Python', 'Machine Learning', 'Deep Learning'])\n",
    "\n",
    "# Print the updated dictionary\n",
    "print(dict1)\n"
   ]
  },
  {
   "cell_type": "markdown",
   "id": "2baf7671-8cc7-473a-8bef-607ac860555d",
   "metadata": {},
   "source": [
    "### Q8. What are the three view objects in dictionaries? Use the three in-built methods in python to display\n",
    "these three view objects for the given dictionary."
   ]
  },
  {
   "cell_type": "markdown",
   "id": "02de444c-2ccd-49a2-bc00-c61407eeafe1",
   "metadata": {},
   "source": [
    "In Python, there are three types of view objects that are associated with dictionaries:\n",
    "\n",
    "dict.keys(): This method returns a view object that contains the keys of the dictionary.\n",
    "dict.values(): This method returns a view object that contains the values of the dictionary.\n",
    "dict.items(): This method returns a view object that contains the key-value pairs of the dictionary as tuples."
   ]
  },
  {
   "cell_type": "code",
   "execution_count": null,
   "id": "cb03a7ab-f74e-44dd-8f1d-c776e94581f1",
   "metadata": {},
   "outputs": [],
   "source": [
    "# Define a sample dictionary\n",
    "person = {name=\"vivek\",\n",
    "    \n",
    "# Display the view objects for the dictionary\n",
    "print(person.keys())   # Output: dict_keys(['name', 'age', 'location'])\n",
    "print(person.values()) # Output: dict_values(['Alice', 25, 'New York'])\n",
    "print(person.items())  # Output: dict_items([('name', 'Alice'), ('age', 25), ('location', 'New York')])\n"
   ]
  }
 ],
 "metadata": {
  "kernelspec": {
   "display_name": "Python 3 (ipykernel)",
   "language": "python",
   "name": "python3"
  },
  "language_info": {
   "codemirror_mode": {
    "name": "ipython",
    "version": 3
   },
   "file_extension": ".py",
   "mimetype": "text/x-python",
   "name": "python",
   "nbconvert_exporter": "python",
   "pygments_lexer": "ipython3",
   "version": "3.10.8"
  }
 },
 "nbformat": 4,
 "nbformat_minor": 5
}
